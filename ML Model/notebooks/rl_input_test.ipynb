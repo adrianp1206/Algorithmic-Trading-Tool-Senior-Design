{
 "cells": [
  {
   "cell_type": "code",
   "execution_count": 2,
   "metadata": {},
   "outputs": [
    {
     "name": "stdout",
     "output_type": "stream",
     "text": [
      "Generating NLP sentiment data...\n"
     ]
    },
    {
     "name": "stderr",
     "output_type": "stream",
     "text": [
      "[*********************100%***********************]  1 of 1 completed"
     ]
    },
    {
     "name": "stdout",
     "output_type": "stream",
     "text": [
      "NLP Daily Sentiment (first 5 rows):\n",
      "        Date  avg_sentiment\n",
      "0 2021-12-31       0.210187\n",
      "NLP Sentiment date range: 2021-12-31 00:00:00 to 2021-12-31 00:00:00\n",
      "\n",
      "Generating XGBoost prediction data...\n"
     ]
    },
    {
     "name": "stderr",
     "output_type": "stream",
     "text": [
      "\n",
      "[*********************100%***********************]  1 of 1 completed\n",
      "WARNING:absl:Compiled the loaded model, but the compiled metrics have yet to be built. `model.compile_metrics` will be empty until you train or evaluate the model.\n"
     ]
    },
    {
     "name": "stdout",
     "output_type": "stream",
     "text": [
      "XGBoost Predictions (first 5 rows):\n",
      "        Date     Close  XGB_Pred  XGB_Prob_Up\n",
      "0 2010-11-01  1.427333         0     0.193513\n",
      "1 2010-11-02  1.416667         0     0.065527\n",
      "2 2010-11-03  1.451333         1     0.715813\n",
      "3 2010-11-04  1.660000         1     0.962460\n",
      "4 2010-11-05  1.629333         1     0.568993\n",
      "XGBoost date range: 2010-11-01 00:00:00 to 2021-12-30 00:00:00\n",
      "\n",
      "Generating LSTM prediction data...\n",
      "\u001b[1m90/90\u001b[0m \u001b[32m━━━━━━━━━━━━━━━━━━━━\u001b[0m\u001b[37m\u001b[0m \u001b[1m0s\u001b[0m 2ms/step\n",
      "LSTM Predictions (first 5 rows):\n",
      "        Date     Close  LSTM_Predicted\n",
      "0 2010-07-28  1.381333        1.522665\n",
      "1 2010-07-29  1.356667        1.454548\n",
      "2 2010-07-30  1.329333        1.341286\n",
      "3 2010-08-02  1.394667        1.280129\n",
      "4 2010-08-03  1.463333        1.258267\n",
      "LSTM date range: 2010-07-28 00:00:00 to 2021-12-30 00:00:00\n",
      "\n",
      "Merging data...\n",
      "\n",
      "Merged DataFrame (first 5 rows):\n",
      "Empty DataFrame\n",
      "Columns: [Date, Close_xgb, XGB_Pred, XGB_Prob_Up, Close_lstm, LSTM_Predicted, avg_sentiment]\n",
      "Index: []\n",
      "Merged date range: NaT to NaT\n",
      "\n",
      "Merged data saved to merged_rl_input.csv\n"
     ]
    }
   ],
   "source": [
    "import sys\n",
    "import os\n",
    "\n",
    "# Get the absolute path to the `src` directory\n",
    "src_path = os.path.abspath(os.path.join('..', 'src'))\n",
    "\n",
    "# Add the `src` directory to the Python path\n",
    "if src_path not in sys.path:\n",
    "    sys.path.append(src_path)\n",
    "\n",
    "from merge_all_debug import main\n",
    "\n",
    "main()\n"
   ]
  }
 ],
 "metadata": {
  "kernelspec": {
   "display_name": "ml-trading-platform",
   "language": "python",
   "name": "python3"
  },
  "language_info": {
   "codemirror_mode": {
    "name": "ipython",
    "version": 3
   },
   "file_extension": ".py",
   "mimetype": "text/x-python",
   "name": "python",
   "nbconvert_exporter": "python",
   "pygments_lexer": "ipython3",
   "version": "3.9.16"
  }
 },
 "nbformat": 4,
 "nbformat_minor": 2
}
