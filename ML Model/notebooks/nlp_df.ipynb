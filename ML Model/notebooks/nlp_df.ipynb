{
 "cells": [
  {
   "cell_type": "code",
   "execution_count": 1,
   "metadata": {},
   "outputs": [
    {
     "name": "stdout",
     "output_type": "stream",
     "text": [
      "             published_date  \\\n",
      "9 2021-12-31 13:41:00+00:00   \n",
      "8 2021-12-31 13:45:00+00:00   \n",
      "7 2021-12-31 14:38:25+00:00   \n",
      "6 2021-12-31 15:52:00+00:00   \n",
      "5 2021-12-31 16:15:00+00:00   \n",
      "\n",
      "                                               title  \\\n",
      "9   3 Stocks With Unstoppable Growth to Buy for 2022   \n",
      "8  Tesla (TSLA) Recalls 475K Plus US Cars Over Po...   \n",
      "7   Why Tesla Is Recalling 199,741 Vehicles In China   \n",
      "6      Sector Themes In Play In The Markets For 2022   \n",
      "5  12 TOP Stocks to Buy Now in January 2022! (202...   \n",
      "\n",
      "                                         description  positive   neutral  \\\n",
      "9  Here we discuss three stocks, namely HHR, ARCB...  0.000007  0.999992   \n",
      "8  Tesla (TSLA) is recalling 356,309 2017-2020 Mo...  0.719381  0.000541   \n",
      "7  Tesla, Inc. (NASDAQ: TSLA) shares may have out...  0.006832  0.004146   \n",
      "6                                                     0.995851  0.004048   \n",
      "5  Here are a dozen stocks to ride the secular gr...  0.543015  0.456824   \n",
      "\n",
      "       negative  sentiment_score  \n",
      "9  2.816041e-07         0.000007  \n",
      "8  2.800777e-01         0.439304  \n",
      "7  9.890220e-01        -0.982190  \n",
      "6  1.012876e-04         0.995749  \n",
      "5  1.603099e-04         0.542855  \n",
      "\n",
      "Daily average sentiment:\n",
      "         date  avg_sentiment\n",
      "0  2021-12-31       0.210187\n"
     ]
    }
   ],
   "source": [
    "import sys\n",
    "import os\n",
    "\n",
    "# Get the absolute path to the `src` directory\n",
    "src_path = os.path.abspath(os.path.join('..', 'src'))\n",
    "\n",
    "# Add the `src` directory to the Python path\n",
    "if src_path not in sys.path:\n",
    "    sys.path.append(src_path)\n",
    "\n",
    "from run_nlp import generate_daily_sentiment, generate_sentiment_df\n",
    " \n",
    "\n",
    "ticker = \"TSLA\"\n",
    "start_date = \"2008-01-01\"\n",
    "end_date = \"2021-12-31\"\n",
    "\n",
    "df_sent = generate_sentiment_df(ticker, start_date, end_date)\n",
    "print(df_sent.head())\n",
    "    \n",
    "    # Or get daily average\n",
    "df_daily = generate_daily_sentiment(ticker, start_date, end_date)\n",
    "print(\"\\nDaily average sentiment:\")\n",
    "print(df_daily.head())"
   ]
  }
 ],
 "metadata": {
  "kernelspec": {
   "display_name": "ml-trading-platform",
   "language": "python",
   "name": "python3"
  },
  "language_info": {
   "codemirror_mode": {
    "name": "ipython",
    "version": 3
   },
   "file_extension": ".py",
   "mimetype": "text/x-python",
   "name": "python",
   "nbconvert_exporter": "python",
   "pygments_lexer": "ipython3",
   "version": "3.9.16"
  }
 },
 "nbformat": 4,
 "nbformat_minor": 2
}
