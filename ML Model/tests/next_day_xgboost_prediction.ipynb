{
 "cells": [
  {
   "cell_type": "code",
   "execution_count": 1,
   "metadata": {},
   "outputs": [
    {
     "name": "stdout",
     "output_type": "stream",
     "text": [
      "Loaded model from xgboost_TSLA.joblib\n"
     ]
    },
    {
     "name": "stderr",
     "output_type": "stream",
     "text": [
      "[*********************100%***********************]  1 of 1 completed\n",
      "[*********************100%***********************]  1 of 1 completed"
     ]
    },
    {
     "name": "stdout",
     "output_type": "stream",
     "text": [
      "Prediction for TSLA tomorrow: Down (Probability: 0.99)\n",
      "Loaded model from xgboost_MSFT.joblib\n",
      "Prediction for MSFT tomorrow: Up (Probability: 0.69)\n"
     ]
    },
    {
     "name": "stderr",
     "output_type": "stream",
     "text": [
      "\n"
     ]
    }
   ],
   "source": [
    "import sys\n",
    "import os\n",
    "\n",
    "import sys\n",
    "import os\n",
    "\n",
    "# Get the absolute path to the `src` directory\n",
    "src_path = os.path.abspath(os.path.join('..', 'src'))\n",
    "\n",
    "# Add the `src` directory to the Python path\n",
    "if src_path not in sys.path:\n",
    "    sys.path.append(src_path)\n",
    "\n",
    "import pandas as pd\n",
    "import numpy as np\n",
    "from joblib import load\n",
    "from data_processing import fetch_stock_data, calculate_technical_indicators\n",
    "\n",
    "# Function to predict tomorrow's stock movement\n",
    "def predict_tomorrow_xgboost(ticker, feature_subset=None):\n",
    "    \"\"\"\n",
    "    Predict tomorrow's stock movement for a given ticker using a pre-trained XGBoost model.\n",
    "    \n",
    "    Args:\n",
    "    ticker: str, The stock ticker symbol.\n",
    "    feature_subset: list of str, Features used during model training.\n",
    "    \n",
    "    Returns:\n",
    "    prediction: str, 'Up' or 'Down' prediction for tomorrow.\n",
    "    probability: float, Probability of the predicted direction.\n",
    "    \"\"\"\n",
    "    # Load the saved model\n",
    "    model_filename = f\"xgboost_{ticker}.joblib\"\n",
    "    model = load(model_filename)\n",
    "    print(f\"Loaded model from {model_filename}\")\n",
    "    \n",
    "    # Fetch and preprocess recent data\n",
    "    data = fetch_stock_data(ticker, start_date='2022-01-01')  # Fetch historical data including today\n",
    "    data = calculate_technical_indicators(data)\n",
    "    data = data.dropna()  # Remove NaN values\n",
    "    \n",
    "    # Use the last row as input for prediction\n",
    "    latest_data = data.iloc[-1:]  # Get the last row (most recent data)\n",
    "    \n",
    "    # Select the features for prediction\n",
    "    X_latest = latest_data[feature_subset] if feature_subset else latest_data.drop(columns=['Close', 'Volume', 'Open', 'High', 'Low'])\n",
    "    \n",
    "    # Predict tomorrow's movement\n",
    "    y_pred = model.predict(X_latest)[0]\n",
    "    y_pred_proba = model.predict_proba(X_latest)[0]\n",
    "    \n",
    "    # Interpret the prediction\n",
    "    prediction = 'Up' if y_pred == 1 else 'Down'\n",
    "    probability = y_pred_proba[1] if y_pred == 1 else y_pred_proba[0]\n",
    "    \n",
    "    return prediction, probability\n",
    "\n",
    "# Example usage\n",
    "ticker = 'TSLA'\n",
    "\n",
    "# Use the best features from training\n",
    "best_features_TSLA = ['WCLPRICE', 'AROON_UP', 'MIDPOINT', 'TYPPRICE', 'MACD', 'BB_upper', 'MACD_hist', 'T3', 'ADX', 'SMA', 'PLUS_DI', 'STOCH_fastk', 'MINUS_DM', 'TEMA', 'ATR', 'STOCH_fastd', 'AROON_DOWN', 'BB_middle', 'NATR', 'HT_LEADSINE', 'MFI', 'OBV', 'HT_PHASOR_inphase', 'STOCH_slowd']  # Replace with your best features\n",
    "\n",
    "# Predict tomorrow's movement\n",
    "tomorrow_prediction, tomorrow_probability = predict_tomorrow_xgboost(ticker, feature_subset=best_features_TSLA)\n",
    "\n",
    "# Print the results\n",
    "print(f\"Prediction for {ticker} tomorrow: {tomorrow_prediction} (Probability: {tomorrow_probability:.2f})\")\n",
    "\n",
    "best_features_MSFT = ['STOCH_fastd', 'PLUS_DM', 'TRANGE', 'HT_TRENDMODE', 'STOCH_fastk', 'ADOSC', 'STOCH_slowd']\n",
    "ticker = 'MSFT'\n",
    "# Predict tomorrow's movement\n",
    "tomorrow_prediction_msft, tomorrow_probability_msft = predict_tomorrow_xgboost(ticker, feature_subset=best_features_MSFT)\n",
    "\n",
    "# Print the results\n",
    "print(f\"Prediction for {ticker} tomorrow: {tomorrow_prediction_msft} (Probability: {tomorrow_probability_msft:.2f})\")\n"
   ]
  }
 ],
 "metadata": {
  "kernelspec": {
   "display_name": "ml-trading-platform",
   "language": "python",
   "name": "python3"
  },
  "language_info": {
   "codemirror_mode": {
    "name": "ipython",
    "version": 3
   },
   "file_extension": ".py",
   "mimetype": "text/x-python",
   "name": "python",
   "nbconvert_exporter": "python",
   "pygments_lexer": "ipython3",
   "version": "3.9.16"
  }
 },
 "nbformat": 4,
 "nbformat_minor": 2
}
