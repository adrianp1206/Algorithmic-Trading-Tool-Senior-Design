{
 "cells": [
  {
   "cell_type": "code",
   "execution_count": 1,
   "metadata": {},
   "outputs": [
    {
     "ename": "ImportError",
     "evalue": "cannot import name 'generate_single_day_sentiment' from 'run_nlp' (/Users/adrianpawlowski/Algorithmic-Trading-Tool-Senior-Design/ML Model/src/run_nlp.py)",
     "output_type": "error",
     "traceback": [
      "\u001b[0;31m---------------------------------------------------------------------------\u001b[0m",
      "\u001b[0;31mImportError\u001b[0m                               Traceback (most recent call last)",
      "\u001b[1;32m/Users/adrianpawlowski/Algorithmic-Trading-Tool-Senior-Design/ML Model/notebooks/nlp_test.ipynb Cell 1\u001b[0m line \u001b[0;36m1\n\u001b[1;32m      <a href='vscode-notebook-cell:/Users/adrianpawlowski/Algorithmic-Trading-Tool-Senior-Design/ML%20Model/notebooks/nlp_test.ipynb#W0sZmlsZQ%3D%3D?line=7'>8</a>\u001b[0m \u001b[39mif\u001b[39;00m src_path \u001b[39mnot\u001b[39;00m \u001b[39min\u001b[39;00m sys\u001b[39m.\u001b[39mpath:\n\u001b[1;32m      <a href='vscode-notebook-cell:/Users/adrianpawlowski/Algorithmic-Trading-Tool-Senior-Design/ML%20Model/notebooks/nlp_test.ipynb#W0sZmlsZQ%3D%3D?line=8'>9</a>\u001b[0m     sys\u001b[39m.\u001b[39mpath\u001b[39m.\u001b[39mappend(src_path)\n\u001b[0;32m---> <a href='vscode-notebook-cell:/Users/adrianpawlowski/Algorithmic-Trading-Tool-Senior-Design/ML%20Model/notebooks/nlp_test.ipynb#W0sZmlsZQ%3D%3D?line=10'>11</a>\u001b[0m \u001b[39mfrom\u001b[39;00m \u001b[39mrun_nlp\u001b[39;00m \u001b[39mimport\u001b[39;00m generate_daily_sentiment, generate_sentiment_df, generate_single_day_sentiment\n\u001b[1;32m     <a href='vscode-notebook-cell:/Users/adrianpawlowski/Algorithmic-Trading-Tool-Senior-Design/ML%20Model/notebooks/nlp_test.ipynb#W0sZmlsZQ%3D%3D?line=11'>12</a>\u001b[0m \u001b[39mfrom\u001b[39;00m \u001b[39mfetch_news\u001b[39;00m \u001b[39mimport\u001b[39;00m fetch_articles\n\u001b[1;32m     <a href='vscode-notebook-cell:/Users/adrianpawlowski/Algorithmic-Trading-Tool-Senior-Design/ML%20Model/notebooks/nlp_test.ipynb#W0sZmlsZQ%3D%3D?line=13'>14</a>\u001b[0m ticker \u001b[39m=\u001b[39m \u001b[39m\"\u001b[39m\u001b[39mTSLA\u001b[39m\u001b[39m\"\u001b[39m\n",
      "\u001b[0;31mImportError\u001b[0m: cannot import name 'generate_single_day_sentiment' from 'run_nlp' (/Users/adrianpawlowski/Algorithmic-Trading-Tool-Senior-Design/ML Model/src/run_nlp.py)"
     ]
    }
   ],
   "source": [
    "import sys\n",
    "import os\n",
    "\n",
    "# Get the absolute path to the `src` directory\n",
    "src_path = os.path.abspath(os.path.join('..', 'src'))\n",
    "\n",
    "# Add the `src` directory to the Python path\n",
    "if src_path not in sys.path:\n",
    "    sys.path.append(src_path)\n",
    "\n",
    "from run_nlp import generate_daily_sentiment, generate_sentiment_df, generate_next_day_rolling_sentiments\n",
    "from fetch_news import fetch_articles\n",
    "\n",
    "ticker = \"TSLA\"\n",
    "start_date = \"2008-01-01\"\n",
    "end_date = \"2021-12-31\"\n",
    "\n",
    "nlp_df = generate_next_day_rolling_sentiments(ticker, start_date, end_date, 5)\n",
    "    # Or get daily average"
   ]
  }
 ],
 "metadata": {
  "kernelspec": {
   "display_name": "ml-trading-platform",
   "language": "python",
   "name": "python3"
  },
  "language_info": {
   "codemirror_mode": {
    "name": "ipython",
    "version": 3
   },
   "file_extension": ".py",
   "mimetype": "text/x-python",
   "name": "python",
   "nbconvert_exporter": "python",
   "pygments_lexer": "ipython3",
   "version": "3.9.16"
  }
 },
 "nbformat": 4,
 "nbformat_minor": 2
}
