{
 "cells": [
  {
   "cell_type": "code",
   "execution_count": 1,
   "metadata": {},
   "outputs": [
    {
     "name": "stderr",
     "output_type": "stream",
     "text": [
      "2024-11-21 13:01:45.723938: I metal_plugin/src/device/metal_device.cc:1154] Metal device set to: Apple M3 Pro\n",
      "2024-11-21 13:01:45.723962: I metal_plugin/src/device/metal_device.cc:296] systemMemory: 18.00 GB\n",
      "2024-11-21 13:01:45.723969: I metal_plugin/src/device/metal_device.cc:313] maxCacheSize: 6.00 GB\n",
      "2024-11-21 13:01:45.723983: I tensorflow/core/common_runtime/pluggable_device/pluggable_device_factory.cc:305] Could not identify NUMA node of platform GPU ID 0, defaulting to 0. Your kernel may not have been built with NUMA support.\n",
      "2024-11-21 13:01:45.723992: I tensorflow/core/common_runtime/pluggable_device/pluggable_device_factory.cc:271] Created TensorFlow device (/job:localhost/replica:0/task:0/device:GPU:0 with 0 MB memory) -> physical PluggableDevice (device: 0, name: METAL, pci bus id: <undefined>)\n",
      "WARNING:absl:Compiled the loaded model, but the compiled metrics have yet to be built. `model.compile_metrics` will be empty until you train or evaluate the model.\n",
      "[*********************100%***********************]  1 of 1 completed\n",
      "2024-11-21 13:01:46.485515: I tensorflow/core/grappler/optimizers/custom_graph_optimizer_registry.cc:117] Plugin optimizer for device_type GPU is enabled.\n"
     ]
    },
    {
     "name": "stdout",
     "output_type": "stream",
     "text": [
      "\n",
      "Testing environment with random actions...\n",
      "\u001b[1m1/1\u001b[0m \u001b[32m━━━━━━━━━━━━━━━━━━━━\u001b[0m\u001b[37m\u001b[0m \u001b[1m0s\u001b[0m 110ms/step\n"
     ]
    },
    {
     "ename": "ValueError",
     "evalue": "as_list() is not defined on an unknown TensorShape.",
     "output_type": "error",
     "traceback": [
      "\u001b[0;31m---------------------------------------------------------------------------\u001b[0m",
      "\u001b[0;31mValueError\u001b[0m                                Traceback (most recent call last)",
      "\u001b[1;32m/Users/adrianpawlowski/Algorithmic-Trading-Tool-Senior-Design/ML Model/tests/rl_model_training_prototype.ipynb Cell 1\u001b[0m line \u001b[0;36m3\n\u001b[1;32m     <a href='vscode-notebook-cell:/Users/adrianpawlowski/Algorithmic-Trading-Tool-Senior-Design/ML%20Model/tests/rl_model_training_prototype.ipynb#W0sZmlsZQ%3D%3D?line=28'>29</a>\u001b[0m features \u001b[39m=\u001b[39m ticker_features\u001b[39m.\u001b[39mget(ticker)\n\u001b[1;32m     <a href='vscode-notebook-cell:/Users/adrianpawlowski/Algorithmic-Trading-Tool-Senior-Design/ML%20Model/tests/rl_model_training_prototype.ipynb#W0sZmlsZQ%3D%3D?line=29'>30</a>\u001b[0m \u001b[39m# Train the RL model\u001b[39;00m\n\u001b[0;32m---> <a href='vscode-notebook-cell:/Users/adrianpawlowski/Algorithmic-Trading-Tool-Senior-Design/ML%20Model/tests/rl_model_training_prototype.ipynb#W0sZmlsZQ%3D%3D?line=30'>31</a>\u001b[0m train_rl(\n\u001b[1;32m     <a href='vscode-notebook-cell:/Users/adrianpawlowski/Algorithmic-Trading-Tool-Senior-Design/ML%20Model/tests/rl_model_training_prototype.ipynb#W0sZmlsZQ%3D%3D?line=31'>32</a>\u001b[0m     ticker\u001b[39m=\u001b[39;49mticker,\n\u001b[1;32m     <a href='vscode-notebook-cell:/Users/adrianpawlowski/Algorithmic-Trading-Tool-Senior-Design/ML%20Model/tests/rl_model_training_prototype.ipynb#W0sZmlsZQ%3D%3D?line=32'>33</a>\u001b[0m     lstm_model_path\u001b[39m=\u001b[39;49mlstm_model_path,\n\u001b[1;32m     <a href='vscode-notebook-cell:/Users/adrianpawlowski/Algorithmic-Trading-Tool-Senior-Design/ML%20Model/tests/rl_model_training_prototype.ipynb#W0sZmlsZQ%3D%3D?line=33'>34</a>\u001b[0m     xgboost_model_path\u001b[39m=\u001b[39;49mxgboost_model_path,\n\u001b[1;32m     <a href='vscode-notebook-cell:/Users/adrianpawlowski/Algorithmic-Trading-Tool-Senior-Design/ML%20Model/tests/rl_model_training_prototype.ipynb#W0sZmlsZQ%3D%3D?line=34'>35</a>\u001b[0m     start_date\u001b[39m=\u001b[39;49mstart_date,\n\u001b[1;32m     <a href='vscode-notebook-cell:/Users/adrianpawlowski/Algorithmic-Trading-Tool-Senior-Design/ML%20Model/tests/rl_model_training_prototype.ipynb#W0sZmlsZQ%3D%3D?line=35'>36</a>\u001b[0m     end_date\u001b[39m=\u001b[39;49mend_date,\n\u001b[1;32m     <a href='vscode-notebook-cell:/Users/adrianpawlowski/Algorithmic-Trading-Tool-Senior-Design/ML%20Model/tests/rl_model_training_prototype.ipynb#W0sZmlsZQ%3D%3D?line=36'>37</a>\u001b[0m     features\u001b[39m=\u001b[39;49mfeatures,\n\u001b[1;32m     <a href='vscode-notebook-cell:/Users/adrianpawlowski/Algorithmic-Trading-Tool-Senior-Design/ML%20Model/tests/rl_model_training_prototype.ipynb#W0sZmlsZQ%3D%3D?line=37'>38</a>\u001b[0m     total_timesteps\u001b[39m=\u001b[39;49mtotal_timesteps,\n\u001b[1;32m     <a href='vscode-notebook-cell:/Users/adrianpawlowski/Algorithmic-Trading-Tool-Senior-Design/ML%20Model/tests/rl_model_training_prototype.ipynb#W0sZmlsZQ%3D%3D?line=38'>39</a>\u001b[0m     save_path\u001b[39m=\u001b[39;49msave_path\n\u001b[1;32m     <a href='vscode-notebook-cell:/Users/adrianpawlowski/Algorithmic-Trading-Tool-Senior-Design/ML%20Model/tests/rl_model_training_prototype.ipynb#W0sZmlsZQ%3D%3D?line=39'>40</a>\u001b[0m )\n",
      "File \u001b[0;32m~/Algorithmic-Trading-Tool-Senior-Design/ML Model/src/train_rl.py:78\u001b[0m, in \u001b[0;36mtrain_rl\u001b[0;34m(ticker, lstm_model_path, xgboost_model_path, start_date, end_date, features, total_timesteps, save_path)\u001b[0m\n\u001b[1;32m     76\u001b[0m     action \u001b[39m=\u001b[39m env\u001b[39m.\u001b[39maction_space\u001b[39m.\u001b[39msample()  \u001b[39m# Take a random action\u001b[39;00m\n\u001b[1;32m     77\u001b[0m     action_counts[action] \u001b[39m+\u001b[39m\u001b[39m=\u001b[39m \u001b[39m1\u001b[39m\n\u001b[0;32m---> 78\u001b[0m     obs, reward, done, _ \u001b[39m=\u001b[39m env\u001b[39m.\u001b[39;49mstep(action)\n\u001b[1;32m     79\u001b[0m     total_reward \u001b[39m+\u001b[39m\u001b[39m=\u001b[39m reward\n\u001b[1;32m     81\u001b[0m \u001b[39mprint\u001b[39m(\u001b[39mf\u001b[39m\u001b[39m\"\u001b[39m\u001b[39mTotal Reward for Random Actions: \u001b[39m\u001b[39m{\u001b[39;00mtotal_reward\u001b[39m}\u001b[39;00m\u001b[39m\"\u001b[39m)\n",
      "File \u001b[0;32m~/Algorithmic-Trading-Tool-Senior-Design/ML Model/src/rl_model.py:139\u001b[0m, in \u001b[0;36mStockPredictionEnv.step\u001b[0;34m(self, action)\u001b[0m\n\u001b[1;32m    137\u001b[0m \u001b[39mself\u001b[39m\u001b[39m.\u001b[39mcurrent_step \u001b[39m+\u001b[39m\u001b[39m=\u001b[39m \u001b[39m1\u001b[39m\n\u001b[1;32m    138\u001b[0m done \u001b[39m=\u001b[39m \u001b[39mself\u001b[39m\u001b[39m.\u001b[39mcurrent_step \u001b[39m>\u001b[39m\u001b[39m=\u001b[39m \u001b[39mlen\u001b[39m(\u001b[39mself\u001b[39m\u001b[39m.\u001b[39mhistorical_data) \u001b[39m-\u001b[39m \u001b[39m2\u001b[39m\n\u001b[0;32m--> 139\u001b[0m next_state \u001b[39m=\u001b[39m \u001b[39mself\u001b[39;49m\u001b[39m.\u001b[39;49m_get_state() \u001b[39mif\u001b[39;00m \u001b[39mnot\u001b[39;00m done \u001b[39melse\u001b[39;00m \u001b[39mNone\u001b[39;00m\n\u001b[1;32m    141\u001b[0m \u001b[39mreturn\u001b[39;00m next_state, reward, done, {}\n",
      "File \u001b[0;32m~/Algorithmic-Trading-Tool-Senior-Design/ML Model/src/rl_model.py:54\u001b[0m, in \u001b[0;36mStockPredictionEnv._get_state\u001b[0;34m(self)\u001b[0m\n\u001b[1;32m     51\u001b[0m     X_xgboost \u001b[39m=\u001b[39m \u001b[39mself\u001b[39m\u001b[39m.\u001b[39mhistorical_data[\u001b[39mself\u001b[39m\u001b[39m.\u001b[39mfeatures]\u001b[39m.\u001b[39miloc[\u001b[39mself\u001b[39m\u001b[39m.\u001b[39mcurrent_step]\u001b[39m.\u001b[39mvalues\u001b[39m.\u001b[39mreshape(\u001b[39m1\u001b[39m, \u001b[39m-\u001b[39m\u001b[39m1\u001b[39m)\n\u001b[1;32m     52\u001b[0m     xgboost_prediction \u001b[39m=\u001b[39m \u001b[39mself\u001b[39m\u001b[39m.\u001b[39mxgboost_model\u001b[39m.\u001b[39mpredict(X_xgboost)[\u001b[39m0\u001b[39m]\n\u001b[0;32m---> 54\u001b[0m     lstm_rolling_accuracy \u001b[39m=\u001b[39m calculate_rolling_accuracy(\n\u001b[1;32m     55\u001b[0m         \u001b[39mself\u001b[39;49m\u001b[39m.\u001b[39;49mlstm_model,\n\u001b[1;32m     56\u001b[0m         \u001b[39mself\u001b[39;49m\u001b[39m.\u001b[39;49mhistorical_data,\n\u001b[1;32m     57\u001b[0m         [\u001b[39m'\u001b[39;49m\u001b[39mClose\u001b[39;49m\u001b[39m'\u001b[39;49m],  \u001b[39m# Feature(s) used for LSTM (adjust if more features are used)\u001b[39;49;00m\n\u001b[1;32m     58\u001b[0m         \u001b[39mself\u001b[39;49m\u001b[39m.\u001b[39;49mcurrent_step\n\u001b[1;32m     59\u001b[0m     )\n\u001b[1;32m     61\u001b[0m \u001b[39m# Rolling accuracy for XGBoost\u001b[39;00m\n\u001b[1;32m     62\u001b[0m     xgboost_rolling_accuracy \u001b[39m=\u001b[39m calculate_rolling_accuracy(\n\u001b[1;32m     63\u001b[0m         \u001b[39mself\u001b[39m\u001b[39m.\u001b[39mxgboost_model,\n\u001b[1;32m     64\u001b[0m         \u001b[39mself\u001b[39m\u001b[39m.\u001b[39mhistorical_data,\n\u001b[1;32m     65\u001b[0m         \u001b[39mself\u001b[39m\u001b[39m.\u001b[39mfeatures,  \u001b[39m# Feature(s) used for XGBoost\u001b[39;00m\n\u001b[1;32m     66\u001b[0m         \u001b[39mself\u001b[39m\u001b[39m.\u001b[39mcurrent_step\n\u001b[1;32m     67\u001b[0m     )\n",
      "File \u001b[0;32m~/Algorithmic-Trading-Tool-Senior-Design/ML Model/src/rl_model.py:195\u001b[0m, in \u001b[0;36mcalculate_rolling_accuracy\u001b[0;34m(model, historical_data, features, step, window)\u001b[0m\n\u001b[1;32m    193\u001b[0m X_window \u001b[39m=\u001b[39m historical_data[features]\u001b[39m.\u001b[39miloc[step \u001b[39m-\u001b[39m window:step]\u001b[39m.\u001b[39mvalues\n\u001b[1;32m    194\u001b[0m y_window \u001b[39m=\u001b[39m historical_data[\u001b[39m'\u001b[39m\u001b[39mTarget\u001b[39m\u001b[39m'\u001b[39m]\u001b[39m.\u001b[39miloc[step \u001b[39m-\u001b[39m window:step]\u001b[39m.\u001b[39mvalues\n\u001b[0;32m--> 195\u001b[0m predictions \u001b[39m=\u001b[39m model\u001b[39m.\u001b[39;49mpredict(X_window)\n\u001b[1;32m    196\u001b[0m \u001b[39mreturn\u001b[39;00m np\u001b[39m.\u001b[39mmean(predictions \u001b[39m==\u001b[39m y_window)\n",
      "File \u001b[0;32m/opt/anaconda3/envs/ml-trading-platform/lib/python3.9/site-packages/keras/src/utils/traceback_utils.py:122\u001b[0m, in \u001b[0;36mfilter_traceback.<locals>.error_handler\u001b[0;34m(*args, **kwargs)\u001b[0m\n\u001b[1;32m    119\u001b[0m     filtered_tb \u001b[39m=\u001b[39m _process_traceback_frames(e\u001b[39m.\u001b[39m__traceback__)\n\u001b[1;32m    120\u001b[0m     \u001b[39m# To get the full stack trace, call:\u001b[39;00m\n\u001b[1;32m    121\u001b[0m     \u001b[39m# `keras.config.disable_traceback_filtering()`\u001b[39;00m\n\u001b[0;32m--> 122\u001b[0m     \u001b[39mraise\u001b[39;00m e\u001b[39m.\u001b[39mwith_traceback(filtered_tb) \u001b[39mfrom\u001b[39;00m \u001b[39mNone\u001b[39;00m\n\u001b[1;32m    123\u001b[0m \u001b[39mfinally\u001b[39;00m:\n\u001b[1;32m    124\u001b[0m     \u001b[39mdel\u001b[39;00m filtered_tb\n",
      "File \u001b[0;32m/opt/anaconda3/envs/ml-trading-platform/lib/python3.9/site-packages/keras/src/utils/traceback_utils.py:122\u001b[0m, in \u001b[0;36mfilter_traceback.<locals>.error_handler\u001b[0;34m(*args, **kwargs)\u001b[0m\n\u001b[1;32m    119\u001b[0m     filtered_tb \u001b[39m=\u001b[39m _process_traceback_frames(e\u001b[39m.\u001b[39m__traceback__)\n\u001b[1;32m    120\u001b[0m     \u001b[39m# To get the full stack trace, call:\u001b[39;00m\n\u001b[1;32m    121\u001b[0m     \u001b[39m# `keras.config.disable_traceback_filtering()`\u001b[39;00m\n\u001b[0;32m--> 122\u001b[0m     \u001b[39mraise\u001b[39;00m e\u001b[39m.\u001b[39mwith_traceback(filtered_tb) \u001b[39mfrom\u001b[39;00m \u001b[39mNone\u001b[39;00m\n\u001b[1;32m    123\u001b[0m \u001b[39mfinally\u001b[39;00m:\n\u001b[1;32m    124\u001b[0m     \u001b[39mdel\u001b[39;00m filtered_tb\n",
      "\u001b[0;31mValueError\u001b[0m: as_list() is not defined on an unknown TensorShape."
     ]
    }
   ],
   "source": [
    "import sys\n",
    "import os\n",
    "\n",
    "# Get the absolute path to the `src` directory\n",
    "src_path = os.path.abspath(os.path.join('..', 'src'))\n",
    "\n",
    "# Add the `src` directory to the Python path\n",
    "if src_path not in sys.path:\n",
    "    sys.path.append(src_path)\n",
    "# Import the train_rl function\n",
    "from train_rl import train_rl\n",
    "\n",
    "# Define parameters\n",
    "ticker = \"TSLA\"\n",
    "lstm_model_path = \"lstm_TSLA_model.h5\"\n",
    "xgboost_model_path = \"xgboost_TSLA.joblib\"\n",
    "start_date = \"2015-01-01\"\n",
    "end_date = \"2021-12-31\"\n",
    "total_timesteps = 500000\n",
    "save_path = \"ppo_stock_rl_model\"\n",
    "\n",
    "ticker_features = {\n",
    "    \"TSLA\": ['WCLPRICE', 'AROON_UP', 'MIDPOINT', 'TYPPRICE', 'MACD', 'BB_upper', 'MACD_hist', 'T3', 'ADX', 'SMA', 'PLUS_DI', 'STOCH_fastk', 'MINUS_DM', 'TEMA', 'ATR', 'STOCH_fastd', 'AROON_DOWN', 'BB_middle', 'NATR', 'HT_LEADSINE', 'MFI', 'OBV', 'HT_PHASOR_inphase', 'STOCH_slowd'],\n",
    "    \"MSFT\": ['STOCH_fastd', 'PLUS_DM', 'TRANGE', 'HT_TRENDMODE', 'STOCH_fastk', 'ADOSC', 'STOCH_slowd'],\n",
    "    \"KO\":   ['WCLPRICE', 'BB_lower', 'APO', 'MEDPRICE', 'HT_DCPERIOD', 'TYPPRICE', 'TRIMA', 'MACD_hist', 'T3', 'SMA', 'AVGPRICE', 'TRANGE', 'ADXR', 'HT_TRENDMODE', 'STOCH_fastk', 'STOCH_slowk', 'STOCH_slowd', 'TEMA', 'CMO', 'STOCH_fastd', 'HT_DCPHASE', 'AROON_DOWN', 'CCI', 'MFI', 'OBV', 'MACD_signal', 'MINUS_DI', 'HT_LEADSINE', 'HT_PHASOR_inphase', 'WMA']\n",
    "}\n",
    "\n",
    "\n",
    "features = ticker_features.get(ticker)\n",
    "# Train the RL model\n",
    "train_rl(\n",
    "    ticker=ticker,\n",
    "    lstm_model_path=lstm_model_path,\n",
    "    xgboost_model_path=xgboost_model_path,\n",
    "    start_date=start_date,\n",
    "    end_date=end_date,\n",
    "    features=features,\n",
    "    total_timesteps=total_timesteps,\n",
    "    save_path=save_path\n",
    ")"
   ]
  }
 ],
 "metadata": {
  "kernelspec": {
   "display_name": "ml-trading-platform",
   "language": "python",
   "name": "python3"
  },
  "language_info": {
   "codemirror_mode": {
    "name": "ipython",
    "version": 3
   },
   "file_extension": ".py",
   "mimetype": "text/x-python",
   "name": "python",
   "nbconvert_exporter": "python",
   "pygments_lexer": "ipython3",
   "version": "3.9.16"
  }
 },
 "nbformat": 4,
 "nbformat_minor": 2
}
