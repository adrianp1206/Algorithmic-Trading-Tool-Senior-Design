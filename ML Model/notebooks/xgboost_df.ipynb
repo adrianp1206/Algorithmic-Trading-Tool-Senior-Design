{
 "cells": [
  {
   "cell_type": "code",
   "execution_count": 1,
   "metadata": {},
   "outputs": [
    {
     "name": "stderr",
     "output_type": "stream",
     "text": [
      "[*********************100%***********************]  1 of 1 completed\n",
      "[*********************100%***********************]  1 of 1 completed"
     ]
    },
    {
     "name": "stdout",
     "output_type": "stream",
     "text": [
      "Generated XGBoost predictions for TSLA: df.shape = (2811, 4)\n"
     ]
    },
    {
     "name": "stderr",
     "output_type": "stream",
     "text": [
      "\n"
     ]
    },
    {
     "name": "stdout",
     "output_type": "stream",
     "text": [
      "Generated XGBoost predictions for MSFT: df.shape = (3512, 4)\n"
     ]
    },
    {
     "name": "stderr",
     "output_type": "stream",
     "text": [
      "[*********************100%***********************]  1 of 1 completed"
     ]
    },
    {
     "name": "stdout",
     "output_type": "stream",
     "text": [
      "Generated XGBoost predictions for KO: df.shape = (3438, 4)\n"
     ]
    },
    {
     "name": "stderr",
     "output_type": "stream",
     "text": [
      "\n"
     ]
    }
   ],
   "source": [
    "import sys\n",
    "import os\n",
    "\n",
    "# Get the absolute path to the `src` directory\n",
    "src_path = os.path.abspath(os.path.join('..', 'src'))\n",
    "\n",
    "# Add the `src` directory to the Python path\n",
    "if src_path not in sys.path:\n",
    "    sys.path.append(src_path)\n",
    "\n",
    "from run_boost import xgboost_inference_df\n",
    "\n",
    "tickers = ['TSLA', 'MSFT', 'KO']\n",
    "model_paths = ['../tests/xgboost_TSLA.joblib', '../tests/xgboost_MSFT.joblib', '../tests/xgboost_KO.joblib']\n",
    "best_features_TSLA = ['WCLPRICE', 'AROON_UP', 'MIDPOINT', 'TYPPRICE', 'MACD', 'BB_upper', 'MACD_hist', 'T3', 'ADX', 'SMA', 'PLUS_DI', 'STOCH_fastk', 'MINUS_DM', 'TEMA', 'ATR', 'STOCH_fastd', 'AROON_DOWN', 'BB_middle', 'NATR', 'HT_LEADSINE', 'MFI', 'OBV', 'HT_PHASOR_inphase', 'STOCH_slowd']\n",
    "best_features_MSFT = ['STOCH_fastd', 'PLUS_DM', 'TRANGE', 'HT_TRENDMODE', 'STOCH_fastk', 'ADOSC', 'STOCH_slowd']\n",
    "best_features_KO = ['WCLPRICE', 'BB_lower', 'APO', 'MEDPRICE', 'HT_DCPERIOD', 'TYPPRICE', 'TRIMA', 'MACD_hist', 'T3', 'SMA', 'AVGPRICE', 'TRANGE', 'ADXR', 'HT_TRENDMODE', 'STOCH_fastk', 'STOCH_slowk', 'STOCH_slowd', 'TEMA', 'CMO', 'STOCH_fastd', 'HT_DCPHASE', 'AROON_DOWN', 'CCI', 'MFI', 'OBV', 'MACD_signal', 'MINUS_DI', 'HT_LEADSINE', 'HT_PHASOR_inphase', 'WMA']\n",
    "\n",
    "features_list = [best_features_TSLA, best_features_MSFT, best_features_KO]\n",
    "\n",
    "results = {}  # Dictionary to store each ticker's DataFrame\n",
    "\n",
    "for ticker, model_path, feature_subset in zip(tickers, model_paths, features_list):\n",
    "    df = xgboost_inference_df(\n",
    "        ticker=ticker,\n",
    "        model_path=model_path,\n",
    "        start_date='2008-01-01',\n",
    "        end_date='2021-12-31',\n",
    "        feature_subset=feature_subset\n",
    "    )\n",
    "    results[ticker] = df  # Store in a dictionary if you want to keep them all\n",
    "    print(f\"Generated XGBoost predictions for {ticker}: df.shape = {df.shape}\")\n"
   ]
  }
 ],
 "metadata": {
  "kernelspec": {
   "display_name": "ml-trading-platform",
   "language": "python",
   "name": "python3"
  },
  "language_info": {
   "codemirror_mode": {
    "name": "ipython",
    "version": 3
   },
   "file_extension": ".py",
   "mimetype": "text/x-python",
   "name": "python",
   "nbconvert_exporter": "python",
   "pygments_lexer": "ipython3",
   "version": "3.9.16"
  }
 },
 "nbformat": 4,
 "nbformat_minor": 2
}
