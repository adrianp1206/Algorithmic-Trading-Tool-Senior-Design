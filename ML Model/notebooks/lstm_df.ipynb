{
 "cells": [
  {
   "cell_type": "code",
   "execution_count": 1,
   "metadata": {},
   "outputs": [
    {
     "name": "stderr",
     "output_type": "stream",
     "text": [
      "[*********************100%***********************]  1 of 1 completed\n",
      "2025-02-02 17:44:05.906906: I metal_plugin/src/device/metal_device.cc:1154] Metal device set to: Apple M3 Pro\n",
      "2025-02-02 17:44:05.906934: I metal_plugin/src/device/metal_device.cc:296] systemMemory: 18.00 GB\n",
      "2025-02-02 17:44:05.906941: I metal_plugin/src/device/metal_device.cc:313] maxCacheSize: 6.00 GB\n",
      "2025-02-02 17:44:05.906956: I tensorflow/core/common_runtime/pluggable_device/pluggable_device_factory.cc:305] Could not identify NUMA node of platform GPU ID 0, defaulting to 0. Your kernel may not have been built with NUMA support.\n",
      "2025-02-02 17:44:05.906965: I tensorflow/core/common_runtime/pluggable_device/pluggable_device_factory.cc:271] Created TensorFlow device (/job:localhost/replica:0/task:0/device:GPU:0 with 0 MB memory) -> physical PluggableDevice (device: 0, name: METAL, pci bus id: <undefined>)\n",
      "WARNING:absl:Compiled the loaded model, but the compiled metrics have yet to be built. `model.compile_metrics` will be empty until you train or evaluate the model.\n"
     ]
    },
    {
     "name": "stdout",
     "output_type": "stream",
     "text": [
      "\u001b[1m38/90\u001b[0m \u001b[32m━━━━━━━━\u001b[0m\u001b[37m━━━━━━━━━━━━\u001b[0m \u001b[1m0s\u001b[0m 1ms/step "
     ]
    },
    {
     "name": "stderr",
     "output_type": "stream",
     "text": [
      "2025-02-02 17:44:06.110400: I tensorflow/core/grappler/optimizers/custom_graph_optimizer_registry.cc:117] Plugin optimizer for device_type GPU is enabled.\n"
     ]
    },
    {
     "name": "stdout",
     "output_type": "stream",
     "text": [
      "\u001b[1m90/90\u001b[0m \u001b[32m━━━━━━━━━━━━━━━━━━━━\u001b[0m\u001b[37m\u001b[0m \u001b[1m0s\u001b[0m 2ms/step\n",
      "           Date       Close  LSTM_Predicted\n",
      "0    2010-07-28    1.381333        1.522665\n",
      "1    2010-07-29    1.356667        1.454548\n",
      "2    2010-07-30    1.329333        1.341286\n",
      "3    2010-08-02    1.394667        1.280129\n",
      "4    2010-08-03    1.463333        1.258267\n",
      "...         ...         ...             ...\n",
      "2873 2021-12-23  355.666656      339.834176\n",
      "2874 2021-12-27  364.646667      337.721325\n",
      "2875 2021-12-28  362.823334      339.881802\n",
      "2876 2021-12-29  362.063324      341.953291\n",
      "2877 2021-12-30  356.779999      344.289719\n",
      "\n",
      "[2878 rows x 3 columns]\n"
     ]
    },
    {
     "name": "stderr",
     "output_type": "stream",
     "text": [
      "[*********************100%***********************]  1 of 1 completed\n",
      "WARNING:absl:Compiled the loaded model, but the compiled metrics have yet to be built. `model.compile_metrics` will be empty until you train or evaluate the model.\n"
     ]
    },
    {
     "name": "stdout",
     "output_type": "stream",
     "text": [
      "\u001b[1m110/110\u001b[0m \u001b[32m━━━━━━━━━━━━━━━━━━━━\u001b[0m\u001b[37m\u001b[0m \u001b[1m0s\u001b[0m 2ms/step\n",
      "           Date       Close  LSTM_Predicted\n",
      "0    2008-01-31   23.546001       23.538707\n",
      "1    2008-02-01   21.993118       23.502610\n",
      "2    2008-02-04   21.805328       23.228140\n",
      "3    2008-02-05   20.996386       23.056412\n",
      "4    2008-02-06   20.599134       22.851556\n",
      "...         ...         ...             ...\n",
      "3500 2021-12-23  326.229248      348.417170\n",
      "3501 2021-12-27  333.793091      346.419798\n",
      "3502 2021-12-28  332.623383      345.628886\n",
      "3503 2021-12-29  333.305695      344.965818\n",
      "3504 2021-12-30  330.742188      345.958359\n",
      "\n",
      "[3505 rows x 3 columns]\n"
     ]
    },
    {
     "name": "stderr",
     "output_type": "stream",
     "text": [
      "[*********************100%***********************]  1 of 1 completed\n",
      "WARNING:absl:Compiled the loaded model, but the compiled metrics have yet to be built. `model.compile_metrics` will be empty until you train or evaluate the model.\n"
     ]
    },
    {
     "name": "stdout",
     "output_type": "stream",
     "text": [
      "\u001b[1m110/110\u001b[0m \u001b[32m━━━━━━━━━━━━━━━━━━━━\u001b[0m\u001b[37m\u001b[0m \u001b[1m0s\u001b[0m 2ms/step\n",
      "           Date      Close  LSTM_Predicted\n",
      "0    2008-01-31  17.436707       17.398825\n",
      "1    2008-02-01  17.513538       17.364535\n",
      "2    2008-02-04  17.327354       17.365996\n",
      "3    2008-02-05  16.963842       17.379228\n",
      "4    2008-02-06  17.055458       17.335725\n",
      "...         ...        ...             ...\n",
      "3500 2021-12-23  53.192982       52.247789\n",
      "3501 2021-12-27  53.585857       52.264311\n",
      "3502 2021-12-28  53.795998       52.418273\n",
      "3503 2021-12-29  53.859951       52.409294\n",
      "3504 2021-12-30  53.704620       52.596942\n",
      "\n",
      "[3505 rows x 3 columns]\n"
     ]
    }
   ],
   "source": [
    "import sys\n",
    "import os\n",
    "\n",
    "# Get the absolute path to the `src` directory\n",
    "src_path = os.path.abspath(os.path.join('..', 'src'))\n",
    "\n",
    "# Add the `src` directory to the Python path\n",
    "if src_path not in sys.path:\n",
    "    sys.path.append(src_path)\n",
    "\n",
    "from run_lstm import generate_lstm_predictions\n",
    "\n",
    "tickers = ['TSLA', 'MSFT', 'KO']\n",
    "model_paths = ['../tests/lstm_TSLA_model.h5', '../tests/lstm_MSFT_model.h5', '../tests/lstm_KO_model.h5']\n",
    "\n",
    "for ticker, model_path in zip(tickers, model_paths):\n",
    "    df = generate_lstm_predictions(ticker, model_path, start_date='2008-01-01', end_date='2021-12-31')\n",
    "    print(df)\n"
   ]
  }
 ],
 "metadata": {
  "kernelspec": {
   "display_name": "ml-trading-platform",
   "language": "python",
   "name": "python3"
  },
  "language_info": {
   "codemirror_mode": {
    "name": "ipython",
    "version": 3
   },
   "file_extension": ".py",
   "mimetype": "text/x-python",
   "name": "python",
   "nbconvert_exporter": "python",
   "pygments_lexer": "ipython3",
   "version": "3.9.16"
  }
 },
 "nbformat": 4,
 "nbformat_minor": 2
}
