{
 "cells": [
  {
   "cell_type": "code",
   "execution_count": 1,
   "metadata": {},
   "outputs": [
    {
     "name": "stderr",
     "output_type": "stream",
     "text": [
      "[*********************100%***********************]  1 of 1 completed\n",
      "[*********************100%***********************]  1 of 1 completed\n",
      "2024-10-11 15:10:46.879386: I metal_plugin/src/device/metal_device.cc:1154] Metal device set to: Apple M3 Pro\n",
      "2024-10-11 15:10:46.879406: I metal_plugin/src/device/metal_device.cc:296] systemMemory: 18.00 GB\n",
      "2024-10-11 15:10:46.879411: I metal_plugin/src/device/metal_device.cc:313] maxCacheSize: 6.00 GB\n",
      "2024-10-11 15:10:46.879427: I tensorflow/core/common_runtime/pluggable_device/pluggable_device_factory.cc:305] Could not identify NUMA node of platform GPU ID 0, defaulting to 0. Your kernel may not have been built with NUMA support.\n",
      "2024-10-11 15:10:46.879439: I tensorflow/core/common_runtime/pluggable_device/pluggable_device_factory.cc:271] Created TensorFlow device (/job:localhost/replica:0/task:0/device:GPU:0 with 0 MB memory) -> physical PluggableDevice (device: 0, name: METAL, pci bus id: <undefined>)\n",
      "WARNING:absl:Compiled the loaded model, but the compiled metrics have yet to be built. `model.compile_metrics` will be empty until you train or evaluate the model.\n"
     ]
    },
    {
     "name": "stdout",
     "output_type": "stream",
     "text": [
      "\u001b[1m1/1\u001b[0m \u001b[32m━━━━━━━━━━━━━━━━━━━━\u001b[0m\u001b[37m\u001b[0m \u001b[1m0s\u001b[0m 114ms/step\n"
     ]
    },
    {
     "name": "stderr",
     "output_type": "stream",
     "text": [
      "2024-10-11 15:10:47.118047: I tensorflow/core/grappler/optimizers/custom_graph_optimizer_registry.cc:117] Plugin optimizer for device_type GPU is enabled.\n"
     ]
    },
    {
     "ename": "ValueError",
     "evalue": "non-broadcastable output operand with shape (5,1) doesn't match the broadcast shape (5,8)",
     "output_type": "error",
     "traceback": [
      "\u001b[0;31m---------------------------------------------------------------------------\u001b[0m",
      "\u001b[0;31mValueError\u001b[0m                                Traceback (most recent call last)",
      "\u001b[1;32m/Users/adrianpawlowski/Algorithmic-Trading-Tool-Senior-Design/ML Model/notebooks/test_real_world_data.ipynb Cell 1\u001b[0m line \u001b[0;36m3\n\u001b[1;32m     <a href='vscode-notebook-cell:/Users/adrianpawlowski/Algorithmic-Trading-Tool-Senior-Design/ML%20Model/notebooks/test_real_world_data.ipynb#W0sZmlsZQ%3D%3D?line=28'>29</a>\u001b[0m model \u001b[39m=\u001b[39m load_model(\u001b[39m\"\u001b[39m\u001b[39m../models/lstm_tsla_model_rework_v5.h5\u001b[39m\u001b[39m\"\u001b[39m, custom_objects\u001b[39m=\u001b[39m{\u001b[39m'\u001b[39m\u001b[39mAttention\u001b[39m\u001b[39m'\u001b[39m: Attention})\n\u001b[1;32m     <a href='vscode-notebook-cell:/Users/adrianpawlowski/Algorithmic-Trading-Tool-Senior-Design/ML%20Model/notebooks/test_real_world_data.ipynb#W0sZmlsZQ%3D%3D?line=30'>31</a>\u001b[0m predicted_prices \u001b[39m=\u001b[39m model\u001b[39m.\u001b[39mpredict(X_input[\u001b[39m-\u001b[39m\u001b[39m5\u001b[39m:])\n\u001b[0;32m---> <a href='vscode-notebook-cell:/Users/adrianpawlowski/Algorithmic-Trading-Tool-Senior-Design/ML%20Model/notebooks/test_real_world_data.ipynb#W0sZmlsZQ%3D%3D?line=32'>33</a>\u001b[0m predicted_prices_rescaled \u001b[39m=\u001b[39m scaler\u001b[39m.\u001b[39;49minverse_transform(predicted_prices)\n\u001b[1;32m     <a href='vscode-notebook-cell:/Users/adrianpawlowski/Algorithmic-Trading-Tool-Senior-Design/ML%20Model/notebooks/test_real_world_data.ipynb#W0sZmlsZQ%3D%3D?line=34'>35</a>\u001b[0m actual_prices \u001b[39m=\u001b[39m last_week_data[\u001b[39m'\u001b[39m\u001b[39mAdj Close\u001b[39m\u001b[39m'\u001b[39m]\u001b[39m.\u001b[39mvalues\n\u001b[1;32m     <a href='vscode-notebook-cell:/Users/adrianpawlowski/Algorithmic-Trading-Tool-Senior-Design/ML%20Model/notebooks/test_real_world_data.ipynb#W0sZmlsZQ%3D%3D?line=36'>37</a>\u001b[0m mape \u001b[39m=\u001b[39m mean_absolute_percentage_error(actual_prices, predicted_prices_rescaled)\n",
      "File \u001b[0;32m/opt/anaconda3/envs/ml-trading-platform/lib/python3.9/site-packages/sklearn/preprocessing/_data.py:574\u001b[0m, in \u001b[0;36mMinMaxScaler.inverse_transform\u001b[0;34m(self, X)\u001b[0m\n\u001b[1;32m    564\u001b[0m xp, _ \u001b[39m=\u001b[39m get_namespace(X)\n\u001b[1;32m    566\u001b[0m X \u001b[39m=\u001b[39m check_array(\n\u001b[1;32m    567\u001b[0m     X,\n\u001b[1;32m    568\u001b[0m     copy\u001b[39m=\u001b[39m\u001b[39mself\u001b[39m\u001b[39m.\u001b[39mcopy,\n\u001b[0;32m   (...)\u001b[0m\n\u001b[1;32m    571\u001b[0m     force_all_finite\u001b[39m=\u001b[39m\u001b[39m\"\u001b[39m\u001b[39mallow-nan\u001b[39m\u001b[39m\"\u001b[39m,\n\u001b[1;32m    572\u001b[0m )\n\u001b[0;32m--> 574\u001b[0m X \u001b[39m-\u001b[39m\u001b[39m=\u001b[39m \u001b[39mself\u001b[39m\u001b[39m.\u001b[39mmin_\n\u001b[1;32m    575\u001b[0m X \u001b[39m/\u001b[39m\u001b[39m=\u001b[39m \u001b[39mself\u001b[39m\u001b[39m.\u001b[39mscale_\n\u001b[1;32m    576\u001b[0m \u001b[39mreturn\u001b[39;00m X\n",
      "\u001b[0;31mValueError\u001b[0m: non-broadcastable output operand with shape (5,1) doesn't match the broadcast shape (5,8)"
     ]
    }
   ],
   "source": [
    "import sys\n",
    "import os\n",
    "\n",
    "# Get the absolute path to the `src` directory\n",
    "src_path = os.path.abspath(os.path.join('..', 'src'))\n",
    "\n",
    "# Add the `src` directory to the Python path\n",
    "if src_path not in sys.path:\n",
    "    sys.path.append(src_path)\n",
    "\n",
    "import numpy as np\n",
    "import pandas as pd\n",
    "from data_processing import fetch_data_up_to_last_week, fetch_last_week_data, preprocess_data, create_lstm_input\n",
    "from tensorflow.keras.models import load_model\n",
    "import matplotlib.pyplot as plt\n",
    "from sklearn.preprocessing import MinMaxScaler\n",
    "from sklearn.metrics import mean_absolute_percentage_error, mean_squared_error\n",
    "from lstm_model import Attention\n",
    "\n",
    "# Fetch and preprocess data\n",
    "historical_data = fetch_data_up_to_last_week()\n",
    "last_week_data = fetch_last_week_data()\n",
    "preprocessed_historical_data, scaler = preprocess_data(historical_data)\n",
    "\n",
    "# Prepare model input data\n",
    "lookback = 20\n",
    "X_input, _ = create_lstm_input(preprocessed_historical_data, target_column='Adj Close', lookback=lookback)\n",
    "\n",
    "# Load the model\n",
    "model = load_model(\"../models/lstm_tsla_model_rework_v5.h5\", custom_objects={'Attention': Attention})\n",
    "\n",
    "# Make predictions\n",
    "predicted_prices = model.predict(X_input[-5:])\n",
    "\n",
    "# Create a placeholder array to match the scaler's expected shape\n",
    "predicted_prices_padded = np.zeros((predicted_prices.shape[0], scaler.min_.shape[0]))\n",
    "\n",
    "# Set the predicted 'Adj Close' values in the first column (assuming 'Adj Close' was the first feature)\n",
    "predicted_prices_padded[:, 0] = predicted_prices.flatten()\n",
    "\n",
    "# Perform inverse scaling\n",
    "predicted_prices_rescaled = scaler.inverse_transform(predicted_prices_padded)\n",
    "\n",
    "# Extract only the 'Adj Close' column after inverse transformation\n",
    "predicted_prices_rescaled = predicted_prices_rescaled[:, 0]\n",
    "\n",
    "# Get actual prices for last week\n",
    "actual_prices = last_week_data['Adj Close'].values\n",
    "\n",
    "# Calculate error metrics\n",
    "mape = mean_absolute_percentage_error(actual_prices, predicted_prices_rescaled)\n",
    "rmse = np.sqrt(mean_squared_error(actual_prices, predicted_prices_rescaled))\n",
    "\n",
    "# Display results\n",
    "for i in range(len(actual_prices)):\n",
    "    print(f\"Day {i+1}: Predicted: {predicted_prices_rescaled[i]}, Actual: {actual_prices[i]}\")\n",
    "\n",
    "print(f\"\\nMean Absolute Percentage Error (MAPE): {mape * 100:.2f}%\")\n",
    "print(f\"Root Mean Squared Error (RMSE): {rmse:.2f}\")\n",
    "\n",
    "# Plot the results\n",
    "plt.figure(figsize=(10,6))\n",
    "plt.scatter(range(len(actual_prices)), actual_prices, label='Actual Prices', color='blue', marker='o')\n",
    "plt.scatter(range(len(predicted_prices_rescaled)), predicted_prices_rescaled, label='Predicted Prices', color='red', marker='x')\n",
    "plt.title('Predicted vs Actual Adjusted Close Prices for Last Week')\n",
    "plt.xlabel('Days')\n",
    "plt.ylabel('Price')\n",
    "plt.legend()\n",
    "plt.show()\n"
   ]
  }
 ],
 "metadata": {
  "kernelspec": {
   "display_name": "ml-trading-platform",
   "language": "python",
   "name": "python3"
  },
  "language_info": {
   "codemirror_mode": {
    "name": "ipython",
    "version": 3
   },
   "file_extension": ".py",
   "mimetype": "text/x-python",
   "name": "python",
   "nbconvert_exporter": "python",
   "pygments_lexer": "ipython3",
   "version": "3.9.16"
  }
 },
 "nbformat": 4,
 "nbformat_minor": 2
}
