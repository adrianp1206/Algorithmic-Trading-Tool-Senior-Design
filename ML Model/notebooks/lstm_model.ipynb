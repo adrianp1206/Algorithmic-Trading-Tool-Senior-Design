{
 "cells": [
  {
   "cell_type": "code",
   "execution_count": 6,
   "metadata": {},
   "outputs": [
    {
     "ename": "ImportError",
     "evalue": "cannot import name 'preprocess_data' from 'data_processing' (/Users/adrianpawlowski/Algorithmic-Trading-Tool-Senior-Design/ML Model/src/data_processing.py)",
     "output_type": "error",
     "traceback": [
      "\u001b[0;31m---------------------------------------------------------------------------\u001b[0m",
      "\u001b[0;31mImportError\u001b[0m                               Traceback (most recent call last)",
      "\u001b[1;32m/Users/adrianpawlowski/Algorithmic-Trading-Tool-Senior-Design/ML Model/notebooks/lstm_model.ipynb Cell 1\u001b[0m line \u001b[0;36m1\n\u001b[1;32m      <a href='vscode-notebook-cell:/Users/adrianpawlowski/Algorithmic-Trading-Tool-Senior-Design/ML%20Model/notebooks/lstm_model.ipynb#W0sZmlsZQ%3D%3D?line=7'>8</a>\u001b[0m \u001b[39mif\u001b[39;00m src_path \u001b[39mnot\u001b[39;00m \u001b[39min\u001b[39;00m sys\u001b[39m.\u001b[39mpath:\n\u001b[1;32m      <a href='vscode-notebook-cell:/Users/adrianpawlowski/Algorithmic-Trading-Tool-Senior-Design/ML%20Model/notebooks/lstm_model.ipynb#W0sZmlsZQ%3D%3D?line=8'>9</a>\u001b[0m     sys\u001b[39m.\u001b[39mpath\u001b[39m.\u001b[39mappend(src_path)\n\u001b[0;32m---> <a href='vscode-notebook-cell:/Users/adrianpawlowski/Algorithmic-Trading-Tool-Senior-Design/ML%20Model/notebooks/lstm_model.ipynb#W0sZmlsZQ%3D%3D?line=10'>11</a>\u001b[0m \u001b[39mfrom\u001b[39;00m \u001b[39mtrain\u001b[39;00m \u001b[39mimport\u001b[39;00m train_lstm_model\n\u001b[1;32m     <a href='vscode-notebook-cell:/Users/adrianpawlowski/Algorithmic-Trading-Tool-Senior-Design/ML%20Model/notebooks/lstm_model.ipynb#W0sZmlsZQ%3D%3D?line=12'>13</a>\u001b[0m train_lstm_model()\n",
      "File \u001b[0;32m~/Algorithmic-Trading-Tool-Senior-Design/ML Model/src/train.py:1\u001b[0m\n\u001b[0;32m----> 1\u001b[0m \u001b[39mfrom\u001b[39;00m \u001b[39msrc\u001b[39;00m\u001b[39m.\u001b[39;00m\u001b[39mdata_processing\u001b[39;00m \u001b[39mimport\u001b[39;00m fetch_tsla_data, preprocess_data, create_lstm_input\n\u001b[1;32m      2\u001b[0m \u001b[39mfrom\u001b[39;00m \u001b[39mlstm_model\u001b[39;00m \u001b[39mimport\u001b[39;00m build_lstm_model\n\u001b[1;32m      3\u001b[0m \u001b[39mfrom\u001b[39;00m \u001b[39msklearn\u001b[39;00m\u001b[39m.\u001b[39;00m\u001b[39mmodel_selection\u001b[39;00m \u001b[39mimport\u001b[39;00m train_test_split\n",
      "\u001b[0;31mImportError\u001b[0m: cannot import name 'preprocess_data' from 'data_processing' (/Users/adrianpawlowski/Algorithmic-Trading-Tool-Senior-Design/ML Model/src/data_processing.py)"
     ]
    }
   ],
   "source": [
    "import sys\n",
    "import os\n",
    "\n",
    "# Get the absolute path to the `src` directory\n",
    "src_path = os.path.abspath(os.path.join('..', 'src'))\n",
    "\n",
    "# Add the `src` directory to the Python path\n",
    "if src_path not in sys.path:\n",
    "    sys.path.append(src_path)\n",
    "\n",
    "from train import train_lstm_model\n",
    "\n",
    "train_lstm_model()\n"
   ]
  }
 ],
 "metadata": {
  "kernelspec": {
   "display_name": "ml-trading-platform",
   "language": "python",
   "name": "python3"
  },
  "language_info": {
   "codemirror_mode": {
    "name": "ipython",
    "version": 3
   },
   "file_extension": ".py",
   "mimetype": "text/x-python",
   "name": "python",
   "nbconvert_exporter": "python",
   "pygments_lexer": "ipython3",
   "version": "3.9.16"
  }
 },
 "nbformat": 4,
 "nbformat_minor": 2
}
