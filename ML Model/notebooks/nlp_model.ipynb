{
 "cells": [
  {
   "cell_type": "code",
   "execution_count": 1,
   "metadata": {},
   "outputs": [
    {
     "name": "stdout",
     "output_type": "stream",
     "text": [
      "Average Sentiment Score for TSLA: -0.08\n"
     ]
    }
   ],
   "source": [
    "import sys\n",
    "import os\n",
    "\n",
    "# Get the absolute path to the `src` directory\n",
    "src_path = os.path.abspath(os.path.join('..', 'src'))\n",
    "\n",
    "# Add the `src` directory to the Python path\n",
    "if src_path not in sys.path:\n",
    "    sys.path.append(src_path)\n",
    "\n",
    "from fetch_news import fetch_articles, extract_text\n",
    "\n",
    "ticker = 'TSLA'\n",
    "\n",
    "articles = fetch_articles(ticker, '2024-01-01', '2024-01-20')\n",
    "texts = extract_text(articles)\n",
    "\n",
    "import torch\n",
    "from transformers import AutoTokenizer, AutoModelForSequenceClassification\n",
    "import pandas as pd\n",
    "\n",
    "tokenizer = AutoTokenizer.from_pretrained(\"yiyanghkust/finbert-tone\")\n",
    "model = AutoModelForSequenceClassification.from_pretrained(\"yiyanghkust/finbert-tone\")\n",
    "\n",
    "def analyze_sentiment(texts):\n",
    "    sentiments = []\n",
    "    for text in texts:\n",
    "        inputs = tokenizer(text, return_tensors=\"pt\", truncation=True, padding=True, max_length=512)\n",
    "        outputs = model(**inputs)\n",
    "        scores = torch.nn.functional.softmax(outputs.logits, dim=-1)\n",
    "\n",
    "        # Compute a single score: -1 (negative) to 1 (positive)\n",
    "        sentiment_score = scores[0][0].item() - scores[0][2].item()  # Positive - Negative\n",
    "\n",
    "        sentiments.append({\n",
    "            'text': text,\n",
    "            'positive': scores[0][0].item(),\n",
    "            'neutral': scores[0][1].item(),\n",
    "            'negative': scores[0][2].item(),\n",
    "            'sentiment_score': sentiment_score\n",
    "        })\n",
    "    return sentiments\n",
    "\n",
    "\n",
    "sentiments = analyze_sentiment(texts)\n",
    "\n",
    "df = pd.DataFrame(sentiments)\n",
    "\n",
    "# Calculate the average sentiment score\n",
    "average_sentiment_score = df['sentiment_score'].mean()\n",
    "\n",
    "# Print the result\n",
    "print(f\"Average Sentiment Score for {ticker}: {average_sentiment_score:.2f}\")\n"
   ]
  }
 ],
 "metadata": {
  "kernelspec": {
   "display_name": "ml-trading-platform",
   "language": "python",
   "name": "python3"
  },
  "language_info": {
   "codemirror_mode": {
    "name": "ipython",
    "version": 3
   },
   "file_extension": ".py",
   "mimetype": "text/x-python",
   "name": "python",
   "nbconvert_exporter": "python",
   "pygments_lexer": "ipython3",
   "version": "3.9.16"
  }
 },
 "nbformat": 4,
 "nbformat_minor": 2
}
